{
 "cells": [
  {
   "cell_type": "code",
   "execution_count": 2,
   "id": "chief-karen",
   "metadata": {},
   "outputs": [],
   "source": [
    "import os\n",
    "import sys\n",
    "import numpy as np\n",
    "import nibabel as nb\n",
    "\n",
    "from nibabel import cifti2"
   ]
  },
  {
   "cell_type": "code",
   "execution_count": 3,
   "id": "ceramic-policy",
   "metadata": {},
   "outputs": [],
   "source": [
    "img = cifti2.load('c1.75p.pscalar.nii')"
   ]
  },
  {
   "cell_type": "code",
   "execution_count": 4,
   "id": "dynamic-dryer",
   "metadata": {},
   "outputs": [
    {
     "data": {
      "text/plain": [
       "<nibabel.cifti2.cifti2.Cifti2Image at 0x7f9f6d5fd438>"
      ]
     },
     "execution_count": 4,
     "metadata": {},
     "output_type": "execute_result"
    }
   ],
   "source": [
    "img"
   ]
  },
  {
   "cell_type": "code",
   "execution_count": 7,
   "id": "arabic-disorder",
   "metadata": {},
   "outputs": [
    {
     "data": {
      "text/plain": [
       "(400,)"
      ]
     },
     "execution_count": 7,
     "metadata": {},
     "output_type": "execute_result"
    }
   ],
   "source": [
    "np.shape(img.dataobj[0])"
   ]
  },
  {
   "cell_type": "code",
   "execution_count": 12,
   "id": "wanted-honor",
   "metadata": {},
   "outputs": [
    {
     "data": {
      "text/plain": [
       "<nibabel.fileholders.FileHolder at 0x7f9f6d5fd5f8>"
      ]
     },
     "execution_count": 12,
     "metadata": {},
     "output_type": "execute_result"
    }
   ],
   "source": [
    "img.file_map['image']"
   ]
  },
  {
   "cell_type": "code",
   "execution_count": 30,
   "id": "mighty-clearing",
   "metadata": {},
   "outputs": [
    {
     "data": {
      "text/plain": [
       "<nibabel.cifti2.cifti2.Cifti2MatrixIndicesMap at 0x7f9f474f4668>"
      ]
     },
     "execution_count": 30,
     "metadata": {},
     "output_type": "execute_result"
    }
   ],
   "source": [
    "x=img.header.matrix.get_index_map(1)\n",
    "x"
   ]
  },
  {
   "cell_type": "code",
   "execution_count": 32,
   "id": "aggressive-license",
   "metadata": {},
   "outputs": [
    {
     "data": {
      "text/plain": [
       "'CIFTI_INDEX_TYPE_PARCELS'"
      ]
     },
     "execution_count": 32,
     "metadata": {},
     "output_type": "execute_result"
    }
   ],
   "source": [
    "x.indices_map_to_data_type"
   ]
  },
  {
   "cell_type": "code",
   "execution_count": 33,
   "id": "fewer-admission",
   "metadata": {},
   "outputs": [],
   "source": [
    "dscalar=cifti2.load('Schaefer2018_400Parcels_17Networks_order.dscalar.nii')"
   ]
  },
  {
   "cell_type": "code",
   "execution_count": 66,
   "id": "local-closing",
   "metadata": {},
   "outputs": [
    {
     "data": {
      "text/plain": [
       "<generator object brain_models at 0x7f9f47798eb8>"
      ]
     },
     "execution_count": 66,
     "metadata": {},
     "output_type": "execute_result"
    }
   ],
   "source": [
    "imghdr = img.header\n",
    "bm0 = imghdr.matrix[1]\n",
    "bm0.brain_models\n"
   ]
  },
  {
   "cell_type": "code",
   "execution_count": 71,
   "id": "billion-primary",
   "metadata": {},
   "outputs": [],
   "source": [
    "#cifti = nb.load(data_dir / 'ds005-preproc/fmriprep/sub-01/func/sub-01_task-mixedgamblestask_run-1_space-fsLR_den-91k_bold.dtseries.nii')\n",
    "cifti = nb.load('c1.75p.pscalar.nii')\n",
    "cifti_data = cifti.get_fdata(dtype=np.float32)\n",
    "cifti_hdr = cifti.header"
   ]
  },
  {
   "cell_type": "code",
   "execution_count": 72,
   "id": "bridal-brooks",
   "metadata": {},
   "outputs": [
    {
     "data": {
      "text/plain": [
       "[<nibabel.cifti2.cifti2_axes.ScalarAxis at 0x7f9f475c9d30>,\n",
       " <nibabel.cifti2.cifti2_axes.ParcelsAxis at 0x7f9f72b676a0>]"
      ]
     },
     "execution_count": 72,
     "metadata": {},
     "output_type": "execute_result"
    }
   ],
   "source": [
    "axes = [cifti_hdr.get_axis(i) for i in range(cifti.ndim)]\n",
    "axes\n"
   ]
  },
  {
   "cell_type": "code",
   "execution_count": 81,
   "id": "loaded-funeral",
   "metadata": {},
   "outputs": [
    {
     "data": {
      "text/plain": [
       "{'CIFTI_STRUCTURE_CORTEX_LEFT': array([22749, 22750, 22751, 22752, 22774, 22775, 22776, 22777, 22778,\n",
       "        22779, 22780, 22781, 22784, 22799, 22800, 22801, 22802, 22803,\n",
       "        22804, 22805, 22806, 22807, 22808, 22809, 22810, 22824, 22825,\n",
       "        22826, 22827, 22828, 22829, 22830, 22831, 22832, 22833, 22834,\n",
       "        22835, 22848, 22849, 22850, 22851, 22852, 22853, 22854, 22855,\n",
       "        22856, 22857, 22858, 22859, 22873, 22874, 22875, 22876, 22877,\n",
       "        22878, 22879, 22880, 22881, 22882, 22896, 22897, 22898, 22899,\n",
       "        22900, 22901, 22902, 22903, 22904, 22918, 22919, 22920, 22921,\n",
       "        22922, 22923, 22924, 22925, 22926, 22940, 22941, 22942, 22943,\n",
       "        22944, 22945, 22946, 22960, 22961, 22962, 22963, 22964, 22965,\n",
       "        22978, 22979, 22980, 22981, 22982, 22983, 22996, 22997, 22998,\n",
       "        22999, 23000, 23013, 23014, 23015, 23016, 23028, 23029, 23030,\n",
       "        23031, 23043])}"
      ]
     },
     "execution_count": 81,
     "metadata": {},
     "output_type": "execute_result"
    }
   ],
   "source": [
    "axes[1].vertices[0]"
   ]
  },
  {
   "cell_type": "code",
   "execution_count": 86,
   "id": "smoking-lending",
   "metadata": {},
   "outputs": [
    {
     "data": {
      "text/plain": [
       "(217,)"
      ]
     },
     "execution_count": 86,
     "metadata": {},
     "output_type": "execute_result"
    }
   ],
   "source": [
    "np.shape(axes[1].vertices[1]['CIFTI_STRUCTURE_CORTEX_LEFT'])"
   ]
  }
 ],
 "metadata": {
  "kernelspec": {
   "display_name": "Python 3",
   "language": "python",
   "name": "python3"
  },
  "language_info": {
   "codemirror_mode": {
    "name": "ipython",
    "version": 3
   },
   "file_extension": ".py",
   "mimetype": "text/x-python",
   "name": "python",
   "nbconvert_exporter": "python",
   "pygments_lexer": "ipython3",
   "version": "3.6.8"
  }
 },
 "nbformat": 4,
 "nbformat_minor": 5
}
