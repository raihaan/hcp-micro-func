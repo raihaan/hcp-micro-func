{
 "cells": [
  {
   "cell_type": "code",
   "execution_count": 56,
   "id": "magnetic-savage",
   "metadata": {},
   "outputs": [],
   "source": [
    "import os\n",
    "import sys\n",
    "import numpy as np\n",
    "import pandas as pd"
   ]
  },
  {
   "cell_type": "code",
   "execution_count": 2,
   "id": "great-immunology",
   "metadata": {},
   "outputs": [],
   "source": [
    "c1 = np.loadtxt('c1thresholded.txt')"
   ]
  },
  {
   "cell_type": "code",
   "execution_count": 5,
   "id": "italic-desperate",
   "metadata": {},
   "outputs": [
    {
     "data": {
      "text/plain": [
       "(400, 1)"
      ]
     },
     "execution_count": 5,
     "metadata": {},
     "output_type": "execute_result"
    }
   ],
   "source": [
    "np.shape(c1.reshape(-1,1))"
   ]
  },
  {
   "cell_type": "code",
   "execution_count": 43,
   "id": "centered-orleans",
   "metadata": {},
   "outputs": [],
   "source": [
    "#load data\n",
    "#x=np.empty((400,1))\n",
    "c=1\n",
    "x = np.loadtxt('c'+str(c)+'thresholded.txt').reshape(-1,1)\n",
    "for c in range(2,5):\n",
    "    comp_data = np.loadtxt('c'+str(c)+'thresholded.txt').reshape(-1,1)\n",
    "    x = np.concatenate((x,np.round(comp_data)),axis=1)\n",
    "\n",
    "comp_array = np.round(x).astype(int)\n",
    "    "
   ]
  },
  {
   "cell_type": "code",
   "execution_count": 44,
   "id": "first-strengthening",
   "metadata": {},
   "outputs": [
    {
     "data": {
      "text/plain": [
       "array([[0, 1, 0, 1],\n",
       "       [0, 1, 0, 0],\n",
       "       [0, 1, 0, 1],\n",
       "       ...,\n",
       "       [1, 0, 0, 0],\n",
       "       [0, 0, 0, 0],\n",
       "       [0, 0, 0, 0]])"
      ]
     },
     "execution_count": 44,
     "metadata": {},
     "output_type": "execute_result"
    }
   ],
   "source": [
    "comp_array"
   ]
  },
  {
   "cell_type": "code",
   "execution_count": 45,
   "id": "promotional-vessel",
   "metadata": {},
   "outputs": [
    {
     "data": {
      "text/plain": [
       "array([[1, 0, 0, 1],\n",
       "       [0, 0, 0, 1],\n",
       "       [0, 0, 0, 0],\n",
       "       [0, 1, 0, 1],\n",
       "       [0, 0, 0, 1],\n",
       "       [1, 0, 0, 1],\n",
       "       [0, 1, 0, 1],\n",
       "       [0, 0, 1, 1],\n",
       "       [1, 0, 0, 1],\n",
       "       [0, 1, 0, 0]])"
      ]
     },
     "execution_count": 45,
     "metadata": {},
     "output_type": "execute_result"
    }
   ],
   "source": [
    "#add a column that is component # IF only IF it is in one of the thresholded maps only\n",
    "#if part of no component - give 0\n",
    "#if part of multiple, give 5 \n",
    "comp_array[10:20,:]"
   ]
  },
  {
   "cell_type": "code",
   "execution_count": 46,
   "id": "another-revision",
   "metadata": {},
   "outputs": [
    {
     "name": "stdout",
     "output_type": "stream",
     "text": [
      "[1 0 0 1] 5\n",
      "[0 0 0 1] 4\n",
      "[0 0 0 0] 0\n",
      "[0 1 0 1] 5\n",
      "[0 0 0 1] 4\n",
      "[1 0 0 1] 5\n",
      "[0 1 0 1] 5\n",
      "[0 0 1 1] 5\n",
      "[1 0 0 1] 5\n",
      "[0 1 0 0] 2\n"
     ]
    }
   ],
   "source": [
    "for p in range(10,20):\n",
    "    x = comp_array[p,:]\n",
    "    if np.sum(x) == 0:\n",
    "        out = 0\n",
    "    elif np.sum(x)>1:\n",
    "        out = 5\n",
    "    elif np.sum(x)==1:\n",
    "        out = np.argmax(x) + 1\n",
    "    print(x, out)"
   ]
  },
  {
   "cell_type": "code",
   "execution_count": 49,
   "id": "ready-keyboard",
   "metadata": {},
   "outputs": [
    {
     "data": {
      "text/plain": [
       "array([[0., 1., 0., 1., 5.],\n",
       "       [0., 1., 0., 0., 2.],\n",
       "       [0., 1., 0., 1., 5.],\n",
       "       [0., 1., 0., 1., 5.],\n",
       "       [0., 1., 0., 1., 5.],\n",
       "       [0., 1., 0., 1., 5.],\n",
       "       [0., 1., 0., 0., 2.],\n",
       "       [0., 1., 0., 1., 5.],\n",
       "       [1., 1., 0., 1., 5.],\n",
       "       [1., 0., 0., 1., 5.],\n",
       "       [1., 0., 0., 1., 5.],\n",
       "       [0., 0., 0., 1., 4.],\n",
       "       [0., 0., 0., 0., 0.],\n",
       "       [0., 1., 0., 1., 5.],\n",
       "       [0., 0., 0., 1., 4.],\n",
       "       [1., 0., 0., 1., 5.],\n",
       "       [0., 1., 0., 1., 5.],\n",
       "       [0., 0., 1., 1., 5.],\n",
       "       [1., 0., 0., 1., 5.],\n",
       "       [0., 1., 0., 0., 2.]])"
      ]
     },
     "execution_count": 49,
     "metadata": {},
     "output_type": "execute_result"
    }
   ],
   "source": [
    "assignment = np.empty(400).reshape(-1,1)\n",
    "for p in range(0,400):\n",
    "    x = comp_array[p,:]\n",
    "    if np.sum(x) == 0:\n",
    "        assignment[p,0] = 0\n",
    "    elif np.sum(x)>1:\n",
    "        assignment[p,0] = 5\n",
    "    elif np.sum(x)==1:\n",
    "        assignment[p,0] = np.argmax(x) + 1\n",
    "comp_array_assignment = np.concatenate((comp_array,assignment),axis=1)\n",
    "comp_array_assignment[0:20,:]"
   ]
  },
  {
   "cell_type": "code",
   "execution_count": 51,
   "id": "permanent-reward",
   "metadata": {},
   "outputs": [
    {
     "data": {
      "image/png": "[encoded data removed]",
      "text/plain": [
       "<Figure size 432x288 with 1 Axes>"
      ]
     },
     "metadata": {
      "needs_background": "light"
     },
     "output_type": "display_data"
    }
   ],
   "source": [
    "import matplotlib\n",
    "from matplotlib import pyplot as plt\n",
    "plt.hist(comp_array_assignment[:,4].flatten())\n",
    "plt.show()"
   ]
  },
  {
   "cell_type": "code",
   "execution_count": 55,
   "id": "latin-cuisine",
   "metadata": {},
   "outputs": [
    {
     "data": {
      "text/plain": [
       "array([[  1,   0,   1,   0,   1,   5],\n",
       "       [  2,   0,   1,   0,   0,   2],\n",
       "       [  3,   0,   1,   0,   1,   5],\n",
       "       ...,\n",
       "       [398,   1,   0,   0,   0,   1],\n",
       "       [399,   0,   0,   0,   0,   0],\n",
       "       [400,   0,   0,   0,   0,   0]])"
      ]
     },
     "execution_count": 55,
     "metadata": {},
     "output_type": "execute_result"
    }
   ],
   "source": [
    "parcel_ids = np.arange(1,401).reshape(-1,1)\n",
    "comp_array_assignment_parcelids = np.concatenate((parcel_ids, comp_array_assignment), axis=1)\n",
    "comp_array_assignment_parcelids.astype(int)"
   ]
  },
  {
   "cell_type": "code",
   "execution_count": 59,
   "id": "promising-texas",
   "metadata": {},
   "outputs": [],
   "source": [
    "#write out\n",
    "pd.DataFrame(comp_array_assignment_parcelids.astype(int)).to_csv(\"component_assignments.csv\",\n",
    "                                                                index = False,\n",
    "                                                                header = [\"SchaefferID\", \"inC1\",\"inC2\",\n",
    "                                                                         \"inC3\",\"inC4\",\"Assignment\"])\n",
    "                                                                "
   ]
  }
 ],
 "metadata": {
  "kernelspec": {
   "display_name": "Python 3",
   "language": "python",
   "name": "python3"
  },
  "language_info": {
   "codemirror_mode": {
    "name": "ipython",
    "version": 3
   },
   "file_extension": ".py",
   "mimetype": "text/x-python",
   "name": "python",
   "nbconvert_exporter": "python",
   "pygments_lexer": "ipython3",
   "version": "3.6.8"
  }
 },
 "nbformat": 4,
 "nbformat_minor": 5
}
