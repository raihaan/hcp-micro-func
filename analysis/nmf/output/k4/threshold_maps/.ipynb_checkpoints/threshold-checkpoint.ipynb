{
 "cells": [
  {
   "cell_type": "code",
   "execution_count": 1,
   "id": "palestinian-jefferson",
   "metadata": {},
   "outputs": [],
   "source": [
    "import os\n",
    "import sys\n",
    "import numpy as np"
   ]
  },
  {
   "cell_type": "code",
   "execution_count": 2,
   "id": "solved-playback",
   "metadata": {},
   "outputs": [],
   "source": [
    "comp = np.loadtxt('c1.txt')"
   ]
  },
  {
   "cell_type": "code",
   "execution_count": 4,
   "id": "regulated-reliance",
   "metadata": {},
   "outputs": [
    {
     "data": {
      "text/plain": [
       "(400,)"
      ]
     },
     "execution_count": 4,
     "metadata": {},
     "output_type": "execute_result"
    }
   ],
   "source": [
    "np.shape(comp)"
   ]
  },
  {
   "cell_type": "code",
   "execution_count": 5,
   "id": "bottom-coating",
   "metadata": {},
   "outputs": [
    {
     "data": {
      "text/plain": [
       "0.611822925"
      ]
     },
     "execution_count": 5,
     "metadata": {},
     "output_type": "execute_result"
    }
   ],
   "source": [
    "np.percentile(comp,75)"
   ]
  },
  {
   "cell_type": "code",
   "execution_count": 10,
   "id": "developed-trust",
   "metadata": {},
   "outputs": [],
   "source": [
    "comp_thresh = np.zeros_like(comp)\n",
    "incluster = np.where(comp>np.percentile(comp,75))\n",
    "comp_thresh[incluster] = 1"
   ]
  },
  {
   "cell_type": "code",
   "execution_count": 13,
   "id": "narrative-drill",
   "metadata": {},
   "outputs": [],
   "source": [
    "thresh = 75\n",
    "for c in range(1,5):\n",
    "    component = np.loadtxt('c' + str(c) + '.txt')\n",
    "    component_thresh = np.zeros_like(component)\n",
    "    incluster = np.where(component>np.percentile(component,thresh))\n",
    "    component_thresh[incluster] = 1\n",
    "    \n",
    "    np.savetxt('c' + str(c) + '_thresholded.txt',\n",
    "               component_thresh.astype('float32'),delimiter='\\\\t',fmt='%.7f')"
   ]
  }
 ],
 "metadata": {
  "kernelspec": {
   "display_name": "Python 3",
   "language": "python",
   "name": "python3"
  },
  "language_info": {
   "codemirror_mode": {
    "name": "ipython",
    "version": 3
   },
   "file_extension": ".py",
   "mimetype": "text/x-python",
   "name": "python",
   "nbconvert_exporter": "python",
   "pygments_lexer": "ipython3",
   "version": "3.6.8"
  }
 },
 "nbformat": 4,
 "nbformat_minor": 5
}
