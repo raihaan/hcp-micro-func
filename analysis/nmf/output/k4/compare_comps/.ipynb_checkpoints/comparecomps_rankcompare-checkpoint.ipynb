{
 "cells": [
  {
   "cell_type": "code",
   "execution_count": 1,
   "id": "distant-stick",
   "metadata": {},
   "outputs": [],
   "source": [
    "import os\n",
    "import sys\n",
    "import numpy as np\n",
    "import scipy\n",
    "from scipy.io import loadmat, savemat\n",
    "from scipy.stats import rankdata\n",
    "\n",
    "import matplotlib\n",
    "from matplotlib import pyplot as plt"
   ]
  },
  {
   "cell_type": "code",
   "execution_count": 2,
   "id": "following-consumer",
   "metadata": {},
   "outputs": [],
   "source": [
    "#explore rank order comparison of components\n",
    "#order each region based on its component score, then subtract\n",
    "#ie rankorderedc1 - rankorderedc2\n",
    "#to show which regions are more prominent in c1 vs c2 and vice versa"
   ]
  },
  {
   "cell_type": "code",
   "execution_count": 3,
   "id": "interior-karen",
   "metadata": {},
   "outputs": [
    {
     "data": {
      "text/plain": [
       "(400, 4)"
      ]
     },
     "execution_count": 3,
     "metadata": {},
     "output_type": "execute_result"
    }
   ],
   "source": [
    "#load component scores\n",
    "W=loadmat('../k4.mat')['W']\n",
    "np.shape(W)"
   ]
  },
  {
   "cell_type": "code",
   "execution_count": 4,
   "id": "productive-sympathy",
   "metadata": {},
   "outputs": [
    {
     "name": "stdout",
     "output_type": "stream",
     "text": [
      "[0.05158858 0.17915741 0.11723357 0.32654998 0.57075083 0.34011828\n",
      " 0.2909272  0.26279914 0.68082577 0.67512383]\n",
      "[ 1.  3.  2.  6.  8.  7.  5.  4. 10.  9.]\n"
     ]
    }
   ],
   "source": [
    "#test rank order fcn\n",
    "c1 = W[:,0]\n",
    "c1_test = c1[0:10]\n",
    "print(c1_test)\n",
    "c1_test_ranked = rankdata(c1_test)\n",
    "print(c1_test_ranked) #cool"
   ]
  },
  {
   "cell_type": "code",
   "execution_count": 5,
   "id": "solid-house",
   "metadata": {},
   "outputs": [],
   "source": [
    "#compute a ranked version of W\n",
    "#converts component scores into rankings. lowest = 0, highest =400\n",
    "W_ranked = np.zeros_like(W)\n",
    "for comp in range(0,4):\n",
    "    W_ranked[:,comp] = rankdata(W[:,comp],method='min')"
   ]
  },
  {
   "cell_type": "code",
   "execution_count": 6,
   "id": "opponent-feeling",
   "metadata": {},
   "outputs": [
    {
     "data": {
      "text/plain": [
       "array([[ 10., 367.,   6., 357.],\n",
       "       [ 37., 388.,  32., 217.],\n",
       "       [ 20., 347.,  36., 389.],\n",
       "       ...,\n",
       "       [336., 261.,  74.,  19.],\n",
       "       [275., 237., 130.,  56.],\n",
       "       [156., 233., 254.,   9.]])"
      ]
     },
     "execution_count": 6,
     "metadata": {},
     "output_type": "execute_result"
    }
   ],
   "source": [
    "W_ranked"
   ]
  },
  {
   "cell_type": "code",
   "execution_count": 8,
   "id": "facial-studio",
   "metadata": {},
   "outputs": [],
   "source": [
    "#subtract ranked components from each other, for every combo of components\n",
    "for x in range(0,4):\n",
    "    for y in range(0,4):\n",
    "        diff = W_ranked[:,x] - W_ranked[:,y]\n",
    "        fname = 'c'+str(x+1)+'-c'+str(y+1)+'.txt'\n",
    "        np.savetxt(fname,diff.astype('float32'),delimiter='\\\\t',fmt='%.7f')\n"
   ]
  }
 ],
 "metadata": {
  "kernelspec": {
   "display_name": "Python 3",
   "language": "python",
   "name": "python3"
  },
  "language_info": {
   "codemirror_mode": {
    "name": "ipython",
    "version": 3
   },
   "file_extension": ".py",
   "mimetype": "text/x-python",
   "name": "python",
   "nbconvert_exporter": "python",
   "pygments_lexer": "ipython3",
   "version": "3.6.8"
  }
 },
 "nbformat": 4,
 "nbformat_minor": 5
}
